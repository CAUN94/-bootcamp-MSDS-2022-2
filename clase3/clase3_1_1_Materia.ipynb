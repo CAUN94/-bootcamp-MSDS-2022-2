{
  "nbformat": 4,
  "nbformat_minor": 0,
  "metadata": {
    "colab": {
      "name": "Untitled8.ipynb",
      "provenance": []
    },
    "kernelspec": {
      "name": "python3",
      "display_name": "Python 3"
    },
    "language_info": {
      "name": "python"
    }
  },
  "cells": [
    {
      "cell_type": "markdown",
      "source": [
        "# Modulos\n",
        "\n",
        "Esta son funciones que otros desarrolladores han creado y los usaremos para facilitar nuestra programación, primero veremos las más basicas que son:\n",
        "\n",
        "\n",
        "*   time\n",
        "*   math\n",
        "*   random\n",
        "\n",
        "\n",
        "\n"
      ],
      "metadata": {
        "id": "NK7bAAk999tH"
      }
    },
    {
      "cell_type": "markdown",
      "source": [
        "# Time\n",
        "\n",
        "El módulo time de la biblioteca estándar de Python proporciona un conjunto de funciones para trabajar con fechas y/o horas. Además de estás funciones hay otras relacionadas en los módulos datetime y calendar que conviene conocer. \n",
        "\n",
        "```\n",
        "import time\n",
        "tiempo_segundos_1 = time.time()\n",
        "print(tiempo_segundos)  # 1488651001.7188754 segundos\n",
        "# El valor obtenido se corresponde con los segundos 1ue han transcurrido desde el comienzo de la  época: 1 de enero de 1970, 0 horas\n",
        "#ponga aquí algun codigo\n",
        "\n",
        "tiempo_segundos_2 = time.time()\n",
        "\n",
        "print(f‘El usuario se demoro {tiempo_segundos_2-tiempo_segundos_1} en hacer el problema.\n",
        "```\n",
        "\n"
      ],
      "metadata": {
        "id": "6VrZ1XmP-b10"
      }
    },
    {
      "cell_type": "code",
      "execution_count": null,
      "metadata": {
        "id": "jpIQSIJW7UBF"
      },
      "outputs": [],
      "source": [
        "import time"
      ]
    },
    {
      "cell_type": "markdown",
      "source": [
        "Otros comandos utiles son:\n",
        "\n",
        "\n",
        "```\n",
        "time.sleep(x), para el código por x segundos\n",
        "time.ctime(x) devuelve el tiempo en formato mes, día, hora, año\n",
        "```"
      ],
      "metadata": {
        "id": "eChvj9mj-zIs"
      }
    },
    {
      "cell_type": "markdown",
      "source": [
        "# Random\n",
        "\n",
        "Random nos permite crear valores aleatorios\n",
        "\n",
        "```\n",
        "random.randint(x,y) : retorna un número aleatorio entero entre x e y.\n",
        "random.random() : retorna un número aleatorio entre 0 y 1.\n",
        "random.uniform(x,y) : retorna un número aleatorio uniforme entre x e y.\n",
        "```"
      ],
      "metadata": {
        "id": "9jTghF_D-7om"
      }
    },
    {
      "cell_type": "code",
      "source": [
        "import random"
      ],
      "metadata": {
        "id": "Bc5YWpqJ-yxj"
      },
      "execution_count": null,
      "outputs": []
    },
    {
      "cell_type": "markdown",
      "source": [
        "# Math\n",
        "\n",
        "Este modulo nos permite trabajar con funciones matematicas de forma sencilla\n",
        "\n",
        "* math.ceil(x): retorna el entero más pequeno que sea igual o mayor que x\n",
        "* math.exp(x): retorna el valor exponencial de x\n",
        "* math.fabs(x): retorna el valor absoluto de x\n",
        "* math.factorial(x): retorna el factorial de x\n",
        "* math.floor(x): retorna el entero más grande que sea igual o menor que x\n",
        "* math.log(x,baseLog): retorna el logaritmo de x en base baseLog\n",
        "* math.pow(x,y): retorna x elevado y\n",
        "* math.sqrt(x):  retorna la raíz cuadrada de x\n",
        "\n",
        "\n",
        "\n"
      ],
      "metadata": {
        "id": "gqBOLzh9_GET"
      }
    },
    {
      "cell_type": "code",
      "source": [
        "import math"
      ],
      "metadata": {
        "id": "nEZUXAfrAT63"
      },
      "execution_count": null,
      "outputs": []
    }
  ]
}