{
  "nbformat": 4,
  "nbformat_minor": 0,
  "metadata": {
    "colab": {
      "name": "ejercicios_2.ipynb",
      "provenance": []
    },
    "kernelspec": {
      "name": "python3",
      "display_name": "Python 3"
    },
    "language_info": {
      "name": "python"
    }
  },
  "cells": [
    {
      "cell_type": "markdown",
      "source": [
        "# Actividad"
      ],
      "metadata": {
        "id": "S4C7E1Rtogmv"
      }
    },
    {
      "cell_type": "markdown",
      "source": [
        "Desarrolle el siguiente programa con OOP\n",
        "\n",
        "1.   Cree una clase estudiante que tenga los atributos \"nombre\",\"apellido\",\"edad\",\"semestre_actual\"\n",
        "2.   Crear una funcion presentacion() que diga \"Hola soy {nombre} {apellido}\"\n",
        "3.   Cree una función mayor_de_edad() que devuelva True o False dependiendo del caso\n",
        "4.   Crear una función puede_tomar_ramo(semestre) a este se le pasara una variable semestre y si el numero de este semestre es mayor al actual del estudiante retorna False, en caso contrario True\n",
        "5.   Agregue un campo notas_ramos a los estudiantes que contenga una lista con la nota_final de los ramos del estudiante (este debe partir vacio) y cree las siguientes funciones, agregar nota (add_nota()), calcular promedio (avg) (solo debe usar las notas mayores a 4) y la funcion ramos reprobados que devuelve la cantidad de ramos reprobados (o menores a 4) (reprobate())\n",
        "6.   Crea una función comparar que reciba a otro estudiante y devuelva al que tiene mejor promedio\n",
        "\n",
        "\n"
      ],
      "metadata": {
        "id": "vjcNJUerokA4"
      }
    },
    {
      "cell_type": "code",
      "execution_count": null,
      "metadata": {
        "id": "qVsNOcXGocKR"
      },
      "outputs": [],
      "source": [
        ""
      ]
    }
  ]
}
