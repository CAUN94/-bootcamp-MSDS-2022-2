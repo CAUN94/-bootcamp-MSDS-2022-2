{
  "nbformat": 4,
  "nbformat_minor": 0,
  "metadata": {
    "colab": {
      "name": "2.1 List y Dict.ipynb",
      "provenance": [],
      "collapsed_sections": [
        "V4Ng13OZAiIu"
      ]
    },
    "kernelspec": {
      "name": "python3",
      "display_name": "Python 3"
    }
  },
  "cells": [
    {
      "cell_type": "markdown",
      "metadata": {
        "id": "jerXemhB8ZDn"
      },
      "source": [
        "# Estructuras de Datos en Python\n",
        "\n",
        "En este Notebook vamos a aprender sobre estructuras de datos en Python y sus utilidades\n",
        "\n",
        "- List\n",
        "- Tuple\n",
        "- Dict\n",
        "- Set\n",
        "- Función open\n",
        "- Transformar archivo json a dict\n",
        "- Manejo de estructuras de datos\n",
        "- Manejo de archivos\n",
        "\n",
        "El objetivo es aprender sobre estas estructuras y como usarlas para facilitar nuestro trabajo con los daots.\n",
        "\n",
        "\n"
      ]
    },
    {
      "cell_type": "markdown",
      "metadata": {
        "id": "V4Ng13OZAiIu"
      },
      "source": [
        "# List\n",
        "\n",
        "Las lista son estrucutruas de datos simples que sirven para almacenar diferentes tipos de datos\n",
        "\n",
        "\n",
        "```\n",
        "first_list = ['Tommy','John','Arthur']\n",
        "```\n",
        "Las principales caractetisticas de una lista son:\n",
        "\n",
        "\n",
        "- Valores ordenados (parte en index 0 y así continua)\n",
        "\n",
        "\n",
        "\n",
        "```\n",
        "first_list = ['Tommy','John','Arthur']\n",
        "print(first_list[0]) # Tommy\n",
        "print(first_list[1]) # John\n",
        "print(first_list[2]) # Arthur\n",
        "```\n",
        "\n",
        "- Si se agrega un nuevo valor este se agrega al final (Se usa el comando append)\n",
        "\n",
        "```\n",
        "first_list = ['Tommy','John','Arthur']\n",
        "first_list.append('Michael')\n",
        "\n",
        "print(first_list[3]) # Michael (toma el siguiente valor en la lista)\n",
        "```\n",
        "\n",
        "- Modificables\n",
        "\n",
        "\n",
        "```\n",
        "first_list = ['Tomy','John','Arthur']\n",
        "fist_list[0] = 'Tommy'\n",
        "print(first_list[0]) # Tommy\n",
        "```\n",
        "\n",
        "\n",
        "- Permite Duplicados\n",
        "\n",
        "\n",
        "```\n",
        "first_list = ['Tommy','Tommy','Tommy','John','Arthur'] \n",
        "# Esto no genera problemas\n",
        "```\n",
        "\n",
        "\n",
        "\n",
        "\n",
        "\n"
      ]
    },
    {
      "cell_type": "code",
      "metadata": {
        "id": "QxkUwWHST8YP"
      },
      "source": [
        "#Para probar códigos"
      ],
      "execution_count": null,
      "outputs": []
    },
    {
      "cell_type": "markdown",
      "metadata": {
        "id": "RAgx1qmiGxMH"
      },
      "source": [
        "# Tuple\n",
        "\n",
        "Las tuplas son estrucutruas de datos simples que sirven para almacenar diferentes tipos de datos con un orden especifico y que **NO** pueden ser modificadas\n",
        "\n",
        "\n",
        "```\n",
        "first_tuple = ('Tommy','John','Arthur')\n",
        "```\n",
        "Las principales caractetisticas de una tupla son:\n",
        "\n",
        "\n",
        "- Valores ordenados (parte en index 0 y así continua)\n",
        "\n",
        "\n",
        "\n",
        "```\n",
        "first_tuple = ('Tommy','John','Arthur')\n",
        "print(first_tuple[0]) # Tommy\n",
        "print(first_tuple[1]) # John\n",
        "print(first_tuple[2]) # Arthur\n",
        "```\n",
        "\n",
        "- No permite agregar nuevos valores\n",
        "\n",
        "```\n",
        "first_tuple = ('Tommy','John','Arthur')\n",
        "first_tuple.append('Michael') # Esto devuelve error\n",
        "\n",
        "```\n",
        "\n",
        "- Modificables\n",
        "\n",
        "\n",
        "```\n",
        "first_tuple = ('Tomy','John','Arthur')\n",
        "fist_tuple[0] = 'Tommy' # Esto devuelve error\n",
        "```\n",
        "\n",
        "\n",
        "- Permite Duplicados\n",
        "\n",
        "\n",
        "```\n",
        "first_tuple = ('Tommy','Tommy','Tommy','John','Arthur')\n",
        "# Esto no genera problemas\n",
        "```\n",
        "\n",
        "\n",
        "\n",
        "\n",
        "\n"
      ]
    },
    {
      "cell_type": "code",
      "metadata": {
        "id": "HYLcuVwlUBcm"
      },
      "source": [
        "#Para probar códiigos"
      ],
      "execution_count": null,
      "outputs": []
    },
    {
      "cell_type": "markdown",
      "metadata": {
        "id": "NeRJpfDJUfMI"
      },
      "source": [
        "# Set\n",
        "\n",
        "Los set son estrucutruas de datos simples \n",
        "\n",
        "\n",
        "```\n",
        "first_set = {'Tommy','John','Arthur'}\n",
        "```\n",
        "Las principales caracteristicas de Set son:\n",
        "\n",
        "- No tiene un orden definido\n",
        "\n",
        "```\n",
        "print(first_set[0]) # Esto devuelve error\n",
        "```\n",
        "- No se pueden modificar los datos, pero si se pueden agregar nuevos usando add()\n",
        "\n",
        "\n",
        "\n",
        "```\n",
        "first_set.add('Michael')\n",
        "print(first_set) # {'Tommy','John','Arthur','Michael}\n",
        "```\n",
        "\n",
        "- No permite duplicados\n",
        "\n",
        "\n",
        "\n",
        "```\n",
        "first_set = {'Tommy','John','Arthur','Tommy'}\n",
        "print(first_set) # {'Tommy', 'John', 'Arthur'}\n",
        "first_set.add('Michael')\n",
        "first_set.add('Michael')\n",
        "print(first_set) # {'Michael', 'Arthur', 'Tommy', 'John'}\n",
        "```\n",
        "\n",
        "\n",
        "\n",
        "\n",
        "\n",
        "\n"
      ]
    },
    {
      "cell_type": "markdown",
      "metadata": {
        "id": "on2EwzlAZuDT"
      },
      "source": [
        "# Dictionaries\n",
        "\n",
        "Los Dict son una estructura de datos que permite usar el formato key-value\n",
        "\n",
        "\n",
        "\n",
        "```\n",
        "first_dict = {\n",
        "  'first_brother': 'Arthur',\n",
        "  'second_brother': 'Tommy',\n",
        "  'third_brother': 'John',\n",
        "}\n",
        "\n",
        "peaky_dict = {\n",
        "  'first_name': 'Tommy',\n",
        "  'last_name': 'Shelby',\n",
        "  'age': 39,\n",
        "  'nationality': 'English',\n",
        "  'family': ['Arthur','John','Poly'],\n",
        "  'married': True\n",
        "}\n",
        "```\n",
        "- No tiene orden, pero se puede acceder en base a la key del dict\n",
        "\n",
        "```\n",
        "print(\"Nombre: \" + peaky_dict['first_name'] + \" \" + peaky_dict['last_name']) \n",
        "print(first_dict[0]) # Esto devuelve error\n",
        "```\n",
        "\n",
        "- Es modificable\n",
        "\n",
        "\n",
        "\n",
        "```\n",
        "print(\"Edad: \" + str(peaky_dict['age']))\n",
        "peaky_dict['age'] = peaky_dict['age'] + 1\n",
        "print(\"Edad: \" + str(peaky_dict['age']))\n",
        "```\n",
        "- No permite duplicados\n",
        "\n",
        "\n",
        "\n",
        "```\n",
        "peaky_dict = {\n",
        "  'first_name': 'Tommy',\n",
        "  'first_name': 'Tommy', # esto se borra al momento de hacer print\n",
        "  'last_name': 'Shelby',\n",
        "  'age': 39,\n",
        "  'nationality': 'English',\n",
        "  'family': ['Arthur','John','Poly'],\n",
        "  'married': True\n",
        "}\n",
        "\n",
        "print(peaky_dict)\n",
        "# {'first_name': 'Tommy', 'last_name': 'Shelby', 'age': 39, 'nationality': 'English', 'family': ['Arthur', 'John', 'Poly'], 'married': True}\n",
        "```\n",
        "\n",
        "\n",
        "\n"
      ]
    },
    {
      "cell_type": "markdown",
      "metadata": {
        "id": "wahJOdhcd0GG"
      },
      "source": [
        "# Función Open\n",
        "\n",
        "La función open() es fundamental en el manejo de datos porque nos permite abrir archivos de forma simple.\n",
        "\n",
        "\n",
        "\n",
        "```\n",
        "file = open(\"\")\n",
        "```\n",
        "\n"
      ]
    },
    {
      "cell_type": "code",
      "metadata": {
        "id": "Hlasa4wchOgk"
      },
      "source": [
        "# archivo txt con personajes de Harry Potter\n",
        "file1 = open('/content/sample_data/harrypotter.txt','r')\n",
        "\n",
        "# Muestra todo el archivo\n",
        "print(file1.read()) \n",
        "\n",
        "\n",
        "# archivo json con sample data que viene en colab\n",
        "file2 = open('/content/sample_data/anscombe.json','r')\n",
        "\n",
        "print(file2.read())\n",
        "\n",
        "# archivo csv con sample data que viene en colab\n",
        "file3 = open('/content/sample_data/california_housing_test.csv','r')\n",
        "\n",
        "print(file3.read())"
      ],
      "execution_count": null,
      "outputs": []
    },
    {
      "cell_type": "markdown",
      "metadata": {
        "id": "BogeKq0UjmbH"
      },
      "source": [
        "Existen distintos tipos de archivos y open() sirve para ir viendo su información\n",
        "\n",
        "- r es para leer el archivo\n",
        "- a abre el archivo y me permite agregarle datos\n",
        "- w abre el archivo y permite escribir información\n",
        "- x crea el archivo en el servidor\n",
        "\n",
        "\n",
        "Podemos decidir cuantos caracteres ver en el comando read()\n",
        "```\n",
        "file = open('example.txt','r')\n",
        "print(f.read(10)) # 10 caracteres\n",
        "```\n",
        "\n",
        "Podemos leer las lineas del archivo una por una\n",
        "\n",
        "\n",
        "\n",
        "```\n",
        "file = open('example.txt','r')\n",
        "print(f.readline()) # Primera Linea\n",
        "print(f.readline()) # Segunda Linea\n",
        "print(f.readline()) # Tercera Linea\n",
        "print(f.readline()) # Cuarta Linea\n",
        "```\n",
        "\n",
        "Para poder revisar la información de forma dinamica podemos usar for\n",
        "\n",
        "```\n",
        "file = open('example.txt','r')\n",
        "for line in file:\n",
        "  # Hacer las funciiones que uno quiera\n",
        "  print(line)\n",
        "```\n",
        "\n",
        "\n",
        "\n",
        "\n",
        "\n",
        "\n",
        "\n",
        "\n"
      ]
    },
    {
      "cell_type": "markdown",
      "metadata": {
        "id": "NjC9j2mXmOn5"
      },
      "source": [
        "# JSON a Dict\n",
        "\n",
        "JavaScript Object Notation (JSON) es un formato basado en texto estándar para representar datos estructurados en la sintaxis de objetos de JavaScript. Es uno de las estructuras de datos más usadas en la web y muchas veces las APIs devuelven la información en este formato.\n",
        "\n"
      ]
    },
    {
      "cell_type": "code",
      "metadata": {
        "id": "oPPSqHqsnlQk"
      },
      "source": [
        "import json\n",
        "# Necesitamos traer las funciones para trabajar con json\n",
        "\n",
        "file = open('/content/sample_data/anscombe.json','r')\n",
        "\n",
        "json = json.load(file)\n",
        "\n",
        "print(json)"
      ],
      "execution_count": null,
      "outputs": []
    },
    {
      "cell_type": "markdown",
      "metadata": {
        "id": "QuOD41YipSAc"
      },
      "source": [
        "# Manejando Estructuras de Datos\n",
        "\n",
        "Las estrucutras de datos también se pueden manejar mediante funciones y la idea es que siempre las manejemos de esta forma.\n"
      ]
    },
    {
      "cell_type": "code",
      "metadata": {
        "id": "2aSXDuzKpyNc"
      },
      "source": [
        "def read(data):\n",
        "  for value in data:\n",
        "    print(value)\n",
        "\n",
        "def data_type(data):\n",
        "\n",
        "  if type(data) != 'dict':\n",
        "    for value in data:\n",
        "      print(type(value))\n",
        "\n",
        "  else:\n",
        "    for value in data:\n",
        "      print(type(data[value]))\n",
        "  \n",
        "\n",
        "mylist = ['Tommy','Arthur','John',['Poly','Michael']]\n",
        "mytuple = ('Walter','Gus','Jessie','Mike','Saul','Hank',1970)\n",
        "myset = {'Daenerys','Jon','Theon','Bran',('Cersei','Robert')}\n",
        "mydict = {\n",
        "  'first_name': 'Tommy',\n",
        "  'last_name': 'Shelby',\n",
        "  'age': 39,\n",
        "  'nationality': 'English',\n",
        "  'family': ['Arthur','John','Poly'],\n",
        "  'married': True\n",
        "}\n",
        "\n",
        "read(mylist)\n",
        "print(\"---\")\n",
        "data_type(mylist)\n",
        "print(\"---\")\n",
        "read(mytuple)\n",
        "print(\"---\")\n",
        "data_type(mytuple)\n",
        "print(\"---\")\n",
        "read(myset)\n",
        "print(\"---\")\n",
        "data_type(myset)\n",
        "print(\"---\")\n",
        "read(mydict)\n",
        "print(\"---\")\n",
        "data_type(mydict)\n"
      ],
      "execution_count": null,
      "outputs": []
    },
    {
      "cell_type": "markdown",
      "source": [
        "# Clases\n",
        "\n",
        "Cuando trabajamos con clases, generalmente es porque queremos modelar el comportamiento de un objeto y su\n",
        "interacción con otros objetos. Pensemos por ejemplo en una persona, que tiene ciertas características como rut, nombre, apellido, edad, entre otras y que puede realizar ciertas acciones como caminar, hablar, etc...Todo esto lo podemos modelar con una clase. De la misma manera, podemos pensar en un auto que tiene marca, modelo y color, y que puede realizar acciones como andar o tocar la bocina, lo que también se puede modelar como una clase. Entonces ahora, además de modelar cada objecto por separado, podemos modelar la interacción entre ambos, por ejemplo que una persona puede comprar una auto.\n",
        "\n",
        "En este módulo, trabajaremos con el ejemplo de Personas y Autos para ejemplificar cómo crear y usar una clase en python. "
      ],
      "metadata": {
        "id": "i_CV45e-mDkN"
      }
    },
    {
      "cell_type": "markdown",
      "source": [
        "## 1. Creando una clase\n",
        "\n",
        "Para crear una clase, debemos hacer dos cosas:\n",
        "\n",
        "- Declarar la clase\n",
        "- Asignar atributos en el constructor\n",
        "\n",
        "El primer paso para crear una clase, es **declararla** utilizando la palabra reservada ``class`` y luego asignarle un nombre:\n",
        "\n",
        "```py\n",
        "class <Nombre de la clase>:\n",
        "    # <Aqui va el contenido de la clase , indentado>\n",
        "```\n",
        "\n",
        "Para nuestros ejemplos, la declaración de la clase Persona se vería así:"
      ],
      "metadata": {
        "id": "hCA6rbZGmEkW"
      }
    },
    {
      "cell_type": "code",
      "source": [
        "class Persona:\n",
        "    pass"
      ],
      "metadata": {
        "id": "bVnKcpEimBMk"
      },
      "execution_count": null,
      "outputs": []
    },
    {
      "cell_type": "markdown",
      "source": [
        "Y la de clase Auto así:"
      ],
      "metadata": {
        "id": "Y5J8T8O1mKUU"
      }
    },
    {
      "cell_type": "code",
      "source": [
        "class Auto:\n",
        "    pass"
      ],
      "metadata": {
        "id": "jn2WsMdmmIXi"
      },
      "execution_count": null,
      "outputs": []
    },
    {
      "cell_type": "markdown",
      "source": [
        "**Observación:** Podemos entender las líneas de arriba como que estamos defniendo dos nuevos tipo de dato:\n",
        "``Persona`` y ``Auto``.\n",
        "\n",
        "Antes de seguir con el segundo paso, es importante entender el concepto de **atributo**. Cada clase debe tener ciertas características que definen su comportamiento y que la distinguen de otras clases, estas características son las que nosotros llamaremos atributos. Como mencionamos anteriormente, consideraremos que las personas tienen rut, nombre, apellido, edad y autos y que los autos tienen marca, modelo y color. Hay que tener en cuenta que, dependiendo de la situación que queramos modelar es que podemos complejizar la clase y agregarle los atributos que consideremos conveniente.\n",
        "\n",
        "Ahora, hablemos del **constructor**. El constructor de una clase es un método que se ve de la siguiente forma:\n",
        "\n",
        "```py\n",
        "def __init__(self , parametro_1 ,... , parametro_n ):\n",
        "    self.atributo_1 = parametro_1\n",
        "    self.atributo_2 = parametro_2\n",
        "    # ...\n",
        "    self.atributo_n = parametro_n\n",
        "```\n",
        "\n",
        "Entonces notemos lo siguiente:\n",
        "- Al ser un método (recordemos que los métodos son simplemente funciones), utiliza la palabra reservada ``def``, a continuación va su nombre: ``__init__`` (no te asustes porque su nombre comienza y termina con doble guión, es solo su nombre) y finalmente, entre paréntesis y separados por coma van los parámetros que recibe.\n",
        "- El primer parámetro que recibe siempre es ``self``.\n",
        "- Los demás parámetros que recibe (parametro_1 ,... , parametro_n) son las variables con las que inicializaremos cada nuevo objeto (esto quedará un poco más claro cuando expliquemos la instanciación de objetos).\n",
        "- Los atributos de la clase se definen de la siguiente manera: ``self.nombre_atributo = valor``. Por ejemplo ``self.nombre = \"Juan\"``.\n",
        "- El valor de un atributo puede ser definido por uno, por ejemplo ``self.nombre = \"Juan\"`` o puede ser asignado según un parámetro, por ejemplo: ``self.nombre = parametro_1``.\n",
        "\n",
        "Con esto, el siguiente paso para crear una clase es definir los atributos de la clase en el constructor de la clase:\n",
        "\n",
        "```py\n",
        "class <Nombre de la Clase>:\n",
        "\n",
        "    def __init__(self , parametro_1 ,... , parametro_n):\n",
        "        self.atributo_1 = parametro_1\n",
        "        self.atributo_2 = parametro_2\n",
        "        # ...\n",
        "        self.atributo_n = parametro_n\n",
        "```\n",
        "\n",
        "Lo que en nuestro ejemplo de personas y autos quedaría así:"
      ],
      "metadata": {
        "id": "IQCyMEwMmMgU"
      }
    },
    {
      "cell_type": "code",
      "source": [
        "class Persona :\n",
        "    def __init__(self , rut , nombre , apellido , edad_ingresada):\n",
        "        self.rut = rut\n",
        "        self.nombre = nombre\n",
        "        self.apellido = apellido\n",
        "        self.edad = edad_ingresada\n",
        "        self.autos = []\n",
        "\n",
        "class Auto :\n",
        "    def __init__(self , marca , modelo , color):\n",
        "        self.marca = marca\n",
        "        self.modelo = modelo\n",
        "        self.color = color\n",
        "        self.dueño = None"
      ],
      "metadata": {
        "id": "uJSPruzzmQRD"
      },
      "execution_count": null,
      "outputs": []
    },
    {
      "cell_type": "markdown",
      "source": [
        "De aquí es importante mencionar lo siguiente:\n",
        "\n",
        "- El nombre de un atributo no necesariamente tiene que tener el mismo nombre del parámetro asignado. Por ejemplo, en la clase ``Persona``, el atributo es ``edad``, pero el parámetro es ``edad_ingresada``.\n",
        "- Un atributo no necesariamente tiene que tomar el valor entregado por un parámetro. Por ejemplo, en la clase ``Persona``, tenemos el atributo ``autos`` que no toma el valor de ninguno de los parámetros entregados, pero nosotros le asignamos como valor inicial una lista vacía. Esto quiere decir que, inicialmente, todas las personas van a iniciar con ningún auto (o dicho de otra manera, nadie tiene ningún auto al comienzo), a diferencia de los otros atributos que comenzarán inicializados con los valores entregados por los parámetros. Esto también ocurre con el atributo ``dueño`` de la clase ``Auto``, que no toma el valor de ningún parámetro y comienza inicializado como ``None``, lo que quiere decir que, inicialmente, los autos instanciados no tendrán un dueñno asociado.\n",
        "- Un parámetro no necesariamente tiene que ser asignado a algún atributo (aunque no es lo más común).\n",
        "\n",
        "\n"
      ],
      "metadata": {
        "id": "bX1vmInAmRZz"
      }
    },
    {
      "cell_type": "markdown",
      "source": [
        "## 2. Agregando métodos\n",
        "\n",
        "Al crear una clase, deberíamos tener por lo menos el método del constructor, que sería el encargado de inicializar\n",
        "los atributos una vez que se instancia el objeto. Pero la parte interesante, es que podemos agregarle más métodos a\n",
        "nuestra clase, dependiendo del comportamiento que queramos modelar. Para esto, agregamos al nivel de indentación\n",
        "del constructor los nuevos métodos:\n",
        "\n",
        "```py\n",
        "class <Nombre de la Clase >:\n",
        "\n",
        "    def __init__(self , parametro_1 ,... , parametro_n):\n",
        "        self.atributo_1 = parametro_1\n",
        "        # ...\n",
        "        self.atributo_n = parametro_n\n",
        "    \n",
        "    def metodo_1(self , parametro_1 ,... , parametro_n):\n",
        "        # Aquí va el contenido del método 1\n",
        "\n",
        "    def metodo_2(self , parametro_1 ,... , parametro_n):\n",
        "        # Aquí va el contenido del método 2\n",
        "```\n",
        "Es muy importante notar que, cada método definido en una clase debe recibir un primer parámetro que puede\n",
        "llevar cualquier nombre, pero es una buena práctica llamarlo ``self``. Este parámetro nos sirve para hacer referencia\n",
        "al objeto mismo y así acceder a sus atributos y métodos. \n",
        "\n",
        "Continuaremos con el ejemplo de las personas y autos agregando algunos métodos:"
      ],
      "metadata": {
        "id": "Pstk99HCmTMO"
      }
    },
    {
      "cell_type": "code",
      "source": [
        "# Agregamos a la clase Persona los métodos cumpleaños, saludar y comprar_auto\n",
        "class Persona :\n",
        "    \n",
        "    def __init__(self , rut , nombre , apellido , edad_ingresada):\n",
        "        self.rut = rut\n",
        "        self.nombre = nombre\n",
        "        self.apellido = apellido\n",
        "        self.edad = edad_ingresada\n",
        "        self.autos = []\n",
        "\n",
        "    def cumpleaños(self):\n",
        "        # Incrementamos la edad de la persona en 1. Notemos que este método no recibe parámetros aparte de self\n",
        "        self.edad += 1\n",
        "\n",
        "    def saludar(self):\n",
        "        # Imprimimos un saludo utilizando los datos de la persona\n",
        "        print('Hola! mi nombre es {} {}'.format(self.nombre, self.apellido))\n",
        "\n",
        "    def comprar_auto(self, auto):\n",
        "        # Agregamos un objeto de tipo/clase Auto a la lista de autos de la persona\n",
        "        self.autos.append(auto)\n",
        "        # Modificamos al dueño del auto. Asumimos que el parámetro auto será de clase Auto, por lo que tendrá el atributo dueño\n",
        "        auto.dueño = self"
      ],
      "metadata": {
        "id": "ht9yMCW2mVMe"
      },
      "execution_count": null,
      "outputs": []
    },
    {
      "cell_type": "code",
      "source": [
        "# Agregamos a la clase Auto el método andar\n",
        "class Auto :\n",
        "    def __init__(self, marca, modelo, color):\n",
        "        self.marca = marca\n",
        "        self.modelo = modelo\n",
        "        self.color = color\n",
        "        self.dueño = None\n",
        "\n",
        "    def andar(self):\n",
        "        # Imprimimos algo que nos indique que el auto está en movimiento\n",
        "        print('Me estoy moviendo ')"
      ],
      "metadata": {
        "id": "_ibSx90xmejm"
      },
      "execution_count": null,
      "outputs": []
    },
    {
      "cell_type": "markdown",
      "source": [
        "## 3. Cómo utilizar una clase\n",
        "\n",
        "Para poder utilizar de manera correcta las clases, necesitamos primero entender la diferencia entre su **definición** y\n",
        "su **instanciación**. Hasta ahora, lo único que hemos hecho es definir clases (Personas y Autos). Pero ahora necesitamos los objetos particulares que nos permitirán modelar situaciones, es decir, necesitamos una persona concreta y un auto en concreto.\n",
        "\n",
        "De hecho, observemos que sucede si es que intentamos acceder a un método o a un atributo de las clases que definimos:"
      ],
      "metadata": {
        "id": "xh1yIthJmfjP"
      }
    },
    {
      "cell_type": "code",
      "source": [
        "Auto.andar()"
      ],
      "metadata": {
        "id": "RC3E-ve-mheq"
      },
      "execution_count": null,
      "outputs": []
    },
    {
      "cell_type": "code",
      "source": [
        "Persona.nombre"
      ],
      "metadata": {
        "id": "5JYsZOZzmjGr"
      },
      "execution_count": null,
      "outputs": []
    },
    {
      "cell_type": "markdown",
      "source": [
        "Esto sucede porque no hemos instanciado las clases. \n",
        "\n",
        "Para instanciar un objeto de cierta clase, hacemos lo siguiente:\n",
        "\n",
        "```py\n",
        "mi_instancia = Nombre_Clase(parametro_1, ... , parametro_n)\n",
        "```\n",
        "\n",
        "Notemos que al instanciar, solo entregamos los parámetros que no son ``self``. Continuando con nuestro ejemplo, instanciamos algunas personas:"
      ],
      "metadata": {
        "id": "yhRcqa7LmmHp"
      }
    },
    {
      "cell_type": "code",
      "source": [
        "p1 = Persona('1.234.567-8', 'Juan', 'Pérez', 30)\n",
        "p2 = Persona('2.345.678-9', 'María', 'Saldías', 23)\n",
        "p3 = Persona('3.456.789-k', 'Marcelo', 'Riveros', 15)"
      ],
      "metadata": {
        "id": "ABcbPHcQmm4P"
      },
      "execution_count": null,
      "outputs": []
    },
    {
      "cell_type": "markdown",
      "source": [
        "Instanciamos algunos autos:"
      ],
      "metadata": {
        "id": "UStPskIimqUI"
      }
    },
    {
      "cell_type": "code",
      "source": [
        "a1 = Auto('Hyundai', 'i30', 'Blanco')\n",
        "a2 = Auto('Susuki', 'Vitara', 'Rojo')"
      ],
      "metadata": {
        "id": "7J1l9hPYmso7"
      },
      "execution_count": null,
      "outputs": []
    },
    {
      "cell_type": "markdown",
      "source": [
        "Ahora podemos acceder a los atributos de estas clases de la siguiente forma:\n",
        "\n",
        "```py\n",
        "nombre_instancia.nombre_atributo\n",
        "```"
      ],
      "metadata": {
        "id": "COus7f3jmwCv"
      }
    },
    {
      "cell_type": "code",
      "source": [
        "print(p1.nombre)\n",
        "print(p2.nombre)\n",
        "print(p3.nombre)\n",
        "print(p1.edad)\n",
        "print(p2.rut)"
      ],
      "metadata": {
        "id": "CqNoy3sVmt4g"
      },
      "execution_count": null,
      "outputs": []
    },
    {
      "cell_type": "markdown",
      "source": [
        "Veamos los tipos de estas instancias:"
      ],
      "metadata": {
        "id": "GoGmUCx8mtJ1"
      }
    },
    {
      "cell_type": "code",
      "source": [
        "print(type(p1))\n",
        "print(type(p2))\n",
        "print(type(a1))\n",
        "print(type(a2))"
      ],
      "metadata": {
        "id": "4WXSrpGbm1dK"
      },
      "execution_count": null,
      "outputs": []
    },
    {
      "cell_type": "markdown",
      "source": [
        "Para acceder a los métodos, podemos hacer lo siguiente:\n",
        "\n",
        "```py\n",
        "nombre_instancia.nombre_método(parámetros)\n",
        "```\n",
        "\n",
        "Notemos que solo debemos entregar los parámetros que no son ``self``. "
      ],
      "metadata": {
        "id": "YMX03gnmm3tZ"
      }
    },
    {
      "cell_type": "code",
      "source": [
        "# Saludamos con algunas personas\n",
        "p1.saludar()\n",
        "p3.saludar()\n",
        "\n",
        "# Vemos el funcionamiento de cumpleaños\n",
        "print('Edad antes del cumpleaños:', p2.edad)\n",
        "p2.cumpleaños()\n",
        "print('Edad post-cumpleaños: ', p2. edad )\n",
        "\n",
        "# Vemos el funcionamiento de la compra de un auto\n",
        "print('Autos de', p1.nombre, 'antes de comprar: ', p1.autos)\n",
        "p1.comprar_auto(a1)\n",
        "print('Autos de ', p1.nombre, 'post compra: ', p1.autos)\n",
        "print('El dueño del auto a1 es: ', a1.dueño)\n",
        "print('El nombre del dueño del auto a1 es: ', a1.dueño.nombre)\n",
        "\n",
        "# Vemos el funcionamiento de andar\n",
        "a1.andar()"
      ],
      "metadata": {
        "id": "mYII37kjm4Gs"
      },
      "execution_count": null,
      "outputs": []
    },
    {
      "cell_type": "markdown",
      "source": [
        "Considera que existen buenas prácticas relacionadas al acceso de métodos y atributos de las diferentes clases. Esto tiene relación con que los atributos y métodos pueden ser públicos o privados, pero no deberías preocuparte por ahora, pues es materia de cursos más avanzados, aunque es bueno que lo tengas en cuenta."
      ],
      "metadata": {
        "id": "3P21asygm4l9"
      }
    },
    {
      "cell_type": "markdown",
      "source": [
        "## 4. Cómo se imprime una clase\n",
        "\n",
        "\n",
        "Debes haberte fijado en que se ve un poco extraña y poco intuitiva la forma en que se imprimió la lista de autos de Juan que contenía un objeto de clase ``Auto`` o cuando imprimimos quién era el dueño del auto. Esto es porque no hemos definido una forma en que queremos que se represente o imprima dicho objeto, entonces se muestra el espacio de memoria en que está ubicada la\n",
        "instancia:\n",
        "\n",
        "```\n",
        "[<__main__.Auto object at 0x05B89430>]\n",
        "<__main__.Persona object at 0x05B89A00>\n",
        "```\n",
        "\n",
        "Para poder imprimir un objeto de una manera más intuitiva y legible, podemos utilizar los métodos ``__str__`` o ``__repr__``. Para explicar estos métodos tomemos en consideración el siguiente ejemplo simplicado de Personas:"
      ],
      "metadata": {
        "id": "fh-bzdRZm_VV"
      }
    },
    {
      "cell_type": "code",
      "source": [
        "class Persona:\n",
        "    def __init__ (self, nombre, apellido, edad):\n",
        "        self.nombre = nombre\n",
        "        self.apellido = apellido\n",
        "        self.edad = edad"
      ],
      "metadata": {
        "id": "fp7Q1UCxm47z"
      },
      "execution_count": null,
      "outputs": []
    },
    {
      "cell_type": "markdown",
      "source": [
        "### Método ``__str__``\n",
        "\n",
        "Agregamos a esta clase el método ``__str__``, que recibe como parámetro ``self`` y retorna un _string_ con lo que queremos que represente al objeto, en el caso de Personas, retornaremos su nombre y apellido:"
      ],
      "metadata": {
        "id": "qfnqLYNBnCdd"
      }
    },
    {
      "cell_type": "code",
      "source": [
        "class Persona:\n",
        "    def __init__ (self, nombre, apellido, edad):\n",
        "        self.nombre = nombre\n",
        "        self.apellido = apellido\n",
        "        self.edad = edad\n",
        "        \n",
        "    def __str__(self):\n",
        "        return self.nombre + ' ' + self.apellido"
      ],
      "metadata": {
        "id": "26ITQygRnCvK"
      },
      "execution_count": null,
      "outputs": []
    },
    {
      "cell_type": "markdown",
      "source": [
        "Ahora instanciamos a un par de personas y vemos qué ocurre:"
      ],
      "metadata": {
        "id": "JR32sVR-nC-A"
      }
    },
    {
      "cell_type": "code",
      "source": [
        "persona1 = Persona('Juan', 'Pérez', 25)\n",
        "persona2 = Persona('María', 'Saldías', 30)\n",
        "\n",
        "print(persona1)\n",
        "print(persona2)"
      ],
      "metadata": {
        "id": "2WyQVXZrnDZi"
      },
      "execution_count": null,
      "outputs": []
    },
    {
      "cell_type": "markdown",
      "source": [
        "Ahora si están representados de una manera legible. Pero vemos qué ocurre cuando estos objetos están en una lista:"
      ],
      "metadata": {
        "id": "aU9ZGHvnnD1-"
      }
    },
    {
      "cell_type": "code",
      "source": [
        "lista_personas = [persona1, persona2]\n",
        "print(lista_personas)"
      ],
      "metadata": {
        "id": "gnvsUD8pnEN8"
      },
      "execution_count": null,
      "outputs": []
    },
    {
      "cell_type": "markdown",
      "source": [
        "Vemos que cuando las instancias están en una lista, no se representan como nosotros esperábamos."
      ],
      "metadata": {
        "id": "cHzzf4b_nSxc"
      }
    },
    {
      "cell_type": "markdown",
      "source": [
        "### Método ``__repr__``\n",
        "\n",
        "En vez de agregamos a la clase el método ``__str__``,  agregamos el método ``__repr__``, que recibe como parámetro ``self`` y retorna un _string_ con lo que queremos que represente al objeto, al igual que en el caso anterior, queremos que para Personas se retorne su nombre y apellido:"
      ],
      "metadata": {
        "id": "S7qudJO0nN_N"
      }
    },
    {
      "cell_type": "code",
      "source": [
        "class Persona:\n",
        "    def __init__ (self, nombre, apellido, edad):\n",
        "        self.nombre = nombre\n",
        "        self.apellido = apellido\n",
        "        self.edad = edad\n",
        "        \n",
        "    def __repr__(self):\n",
        "        return self.nombre + ' ' + self.apellido"
      ],
      "metadata": {
        "id": "Pfk9Fur5nOSv"
      },
      "execution_count": null,
      "outputs": []
    },
    {
      "cell_type": "code",
      "source": [
        "persona1 = Persona('Juan', 'Pérez', 25)\n",
        "persona2 = Persona('María', 'Saldías', 30)\n",
        "\n",
        "print(persona1)\n",
        "print(persona2)\n",
        "\n",
        "lista_personas = [persona1, persona2]\n",
        "print(lista_personas)"
      ],
      "metadata": {
        "id": "qON7e-2qnYS1"
      },
      "execution_count": null,
      "outputs": []
    },
    {
      "cell_type": "markdown",
      "source": [
        "Ahora si tenemos una forma e representar los objetos tanto si están en una lista como si no. Con respecto a la diferencia entre ambos métodos, según la documentación de python,  ``__str__`` se usa para encontrar la representación en forma de string que es \"informal\" (legible), mientras  que ``__repr__`` para la representación en forma de string que es \"oficial\"."
      ],
      "metadata": {
        "id": "KIkyYxKJnOnz"
      }
    },
    {
      "cell_type": "markdown",
      "source": [
        "## 5. Atributos de instancia y atributos de clase\n",
        "\n",
        "Hasta ahora, solo hemos trabajado con atributos de instancia, pues estos se encontraban dentro del constructor de la instancia. Pero también existen los atributos de clase, que son compartidos por todas las instancias de esa clase. Sigamos el siguiente ejemplo:"
      ],
      "metadata": {
        "id": "0Dc96juNnf77"
      }
    },
    {
      "cell_type": "code",
      "source": [
        "class A :\n",
        "    def __init__ (self):\n",
        "        self.atributo = 'valor'"
      ],
      "metadata": {
        "id": "8DvjdfsqnO59"
      },
      "execution_count": null,
      "outputs": []
    },
    {
      "cell_type": "markdown",
      "source": [
        "Instanciamos:\n"
      ],
      "metadata": {
        "id": "_LhSRhcEnPRd"
      }
    },
    {
      "cell_type": "code",
      "source": [
        "print(a1.atributo)\n",
        "print(a2.atributo)\n",
        "print(a3.atributo)"
      ],
      "metadata": {
        "id": "7AJcKzZMnPrB"
      },
      "execution_count": null,
      "outputs": []
    },
    {
      "cell_type": "markdown",
      "source": [
        "Ahora, cambiamos el valor de atributo solo para la primera instancia:\n"
      ],
      "metadata": {
        "id": "D18KjyyVnmK1"
      }
    },
    {
      "cell_type": "code",
      "source": [
        "a1.atributo = 'nuevo_valor'"
      ],
      "metadata": {
        "id": "nwLJPduknmgd"
      },
      "execution_count": null,
      "outputs": []
    },
    {
      "cell_type": "code",
      "source": [
        "print(a1.atributo)\n",
        "print(a2.atributo)\n",
        "print(a3.atributo)"
      ],
      "metadata": {
        "id": "BHH7SJT5np8v"
      },
      "execution_count": null,
      "outputs": []
    },
    {
      "cell_type": "markdown",
      "source": [
        "Como hemos modificado el valor de un atributo en una instancia, solo se modifica para esa intancia y no para las\n",
        "demás.\n",
        "Ahora, podríamos pensar que un atributo que no está definido con ``self``, podría ser compartido por todos los objetos de la clase:"
      ],
      "metadata": {
        "id": "OmJTAZOznuTb"
      }
    },
    {
      "cell_type": "code",
      "source": [
        "class B :\n",
        "    def __init__ (self):\n",
        "        atributo = 'valor'\n",
        "    \n",
        "b1 = B()\n",
        "\n",
        "print(b1.atributo)"
      ],
      "metadata": {
        "id": "Ww9lQJ-Ynxu8"
      },
      "execution_count": null,
      "outputs": []
    },
    {
      "cell_type": "markdown",
      "source": [
        "Pero vemos que el programa se cae (así que recuerda siempre definir tus atributos con ``self``). Entonces ¿cómo podemos definir un atributo que sea **de la clase**?. Lo podemos hacer, definiendo el atributo luego de la declaración de la clase y antes del constructor:"
      ],
      "metadata": {
        "id": "YLBv2VomnySo"
      }
    },
    {
      "cell_type": "code",
      "source": [
        "class C:\n",
        "    \n",
        "    atributo_clase = 'atributo de la clase'\n",
        "    \n",
        "    def __init__(self):\n",
        "        atributo_instancia = 'atributo de la instancia'\n",
        "        \n",
        "c1 = C()\n",
        "c2 = C()\n",
        "c3 = C()\n",
        "\n",
        "print(c1.atributo_clase)\n",
        "print(c2.atributo_clase)\n",
        "print(c3.atributo_clase)"
      ],
      "metadata": {
        "id": "jkDmOzwdnznc"
      },
      "execution_count": null,
      "outputs": []
    },
    {
      "cell_type": "markdown",
      "source": [
        "Si queremos realizar un cambio en este atributo para todas las instancias, debemos hacerlo de la siguiente forma:\n"
      ],
      "metadata": {
        "id": "6hmj1yZzn010"
      }
    },
    {
      "cell_type": "code",
      "source": [
        "C.atributo_clase = \"atributo de clase cambiado para todas las instancias\"\n",
        "\n",
        "print(c1.atributo_clase)\n",
        "print(c2.atributo_clase)\n",
        "print(c3.atributo_clase)"
      ],
      "metadata": {
        "id": "yfEpCkEJn2BT"
      },
      "execution_count": null,
      "outputs": []
    },
    {
      "cell_type": "markdown",
      "source": [
        "Notemos que para realizar el cambio para todas las instancis tuvimos que hacerlo de la forma: ``nombre_clase.atributo = nuevo_valor``, ya que si lo cambiamos accediendo desde una instancia en particular, solo se cambiará para ella y no para las demás:"
      ],
      "metadata": {
        "id": "c3kadNu9n3XT"
      }
    },
    {
      "cell_type": "code",
      "source": [
        "c1.atributo_clase = \"atributo de clase cambiado para c1\"\n",
        "\n",
        "print(c1.atributo_clase)\n",
        "print(c2.atributo_clase)\n",
        "print(c3.atributo_clase)"
      ],
      "metadata": {
        "id": "zno9IX0Wn5Rd"
      },
      "execution_count": null,
      "outputs": []
    }
  ]
}