{
  "nbformat": 4,
  "nbformat_minor": 0,
  "metadata": {
    "kernelspec": {
      "display_name": "Python 3",
      "language": "python",
      "name": "python3"
    },
    "language_info": {
      "codemirror_mode": {
        "name": "ipython",
        "version": 3
      },
      "file_extension": ".py",
      "mimetype": "text/x-python",
      "name": "python",
      "nbconvert_exporter": "python",
      "pygments_lexer": "ipython3",
      "version": "3.8.6"
    },
    "colab": {
      "name": "Ejemplos.ipynb",
      "provenance": []
    }
  },
  "cells": [
    {
      "cell_type": "markdown",
      "metadata": {
        "id": "dSMK7dd4Q1gC"
      },
      "source": [
        "# Ejercicios\n",
        "\n",
        "## Paréntesis de una expresión\n",
        "\n",
        "En este ejemplo vamos a resolver un problema sencillo. Considere un _string_ que representa una expresión matemática sencilla con paréntesis:\n",
        "\n",
        "```Python\n",
        "s = \"((1 + 2) * 4) - 4\"\n",
        "```\n",
        "\n",
        "En este problema lo que vamos a hacer es imprimir `Correcto` si los paréntesis están bien asignados; pero vamos a imprimir `Incorrecto` si el número de paréntesis no está bien asignado.\n",
        "\n",
        "¿Cómo resolveremos este problema? La idea es la siguiente: vamos a ir recordando la cantidad de paréntesis abiertos (`(`) que vamos viendo. Cuando vemos un paréntesis cerrado (`)`) vamos a descontar 1 a la cantidad de paréntesis abiertos. Si en algún momento la cantidad de paréntesis es menor que 0, es porque tenemos un error. Si al finalizar la lectura del string tenemos 0 paréntesis abiertos \"en memoria\", entonces está todo correcto, pero si nos queda una cantidad mayor que 0, es porque se nos olvidó cerrar un paréntesis."
      ]
    },
    {
      "cell_type": "code",
      "metadata": {
        "id": "1MPkZlqsQ1gD"
      },
      "source": [
        ""
      ],
      "execution_count": null,
      "outputs": []
    },
    {
      "cell_type": "markdown",
      "metadata": {
        "id": "0_sSOQeeQ1gE"
      },
      "source": [
        "## Producto punto de dos vectores\n",
        "\n",
        "En este problema vamos a calcular el producto punto de dos vectores. Para esto vamos a pedir un _input_ $n$ que representará la dimensión de los vectores. Luego recibiremos $n$ números que representará el primer vector, y después otros $n$ números que representarán el segundo vector. Luego, implementaremos una función llamada producto punto, que recibe los dos vectores y retorna el producto punto entre ellos."
      ]
    },
    {
      "cell_type": "code",
      "metadata": {
        "id": "ofTzCF9NQ1gE"
      },
      "source": [
        ""
      ],
      "execution_count": null,
      "outputs": []
    },
    {
      "cell_type": "markdown",
      "source": [
        "# Numeros Primos\n",
        "\n",
        "Cree una función a la que se le entregue un numero y esta retorne True en caso de que este sea primero o False en cualquier otro caso."
      ],
      "metadata": {
        "id": "z6jxJswfXXGW"
      }
    },
    {
      "cell_type": "code",
      "source": [
        "def prime_number():\n",
        "\n",
        "prime_number()"
      ],
      "metadata": {
        "id": "QQECwqeGXWIn"
      },
      "execution_count": null,
      "outputs": []
    },
    {
      "cell_type": "markdown",
      "source": [
        "# Solicitando numeros\n",
        "\n",
        "Creer un programa que pida al usuario un numero por pantalla y este se agregue a una lista, el programa terminara cuando el usuario tenga más de 10 numeros ingresados e ingrese un numero que sea primo."
      ],
      "metadata": {
        "id": "1waLv1b3aCcB"
      }
    },
    {
      "cell_type": "code",
      "source": [
        ""
      ],
      "metadata": {
        "id": "cMGBioFvbVHy"
      },
      "execution_count": null,
      "outputs": []
    },
    {
      "cell_type": "markdown",
      "source": [
        "# Suma Factorial\n",
        "\n",
        "Cree una función que realice la siguiente ecuacuón matematica\n",
        "\n",
        "> *f(n) = 1! + 2! + 3! + ... + (n-1)! + n!* \n",
        "\n"
      ],
      "metadata": {
        "id": "4dJPI4F7bUl-"
      }
    },
    {
      "cell_type": "code",
      "source": [
        "def sum_f():\n",
        "\n",
        "\n",
        "sum_f()"
      ],
      "metadata": {
        "id": "aHWaaRgKb_gQ"
      },
      "execution_count": null,
      "outputs": []
    },
    {
      "cell_type": "markdown",
      "source": [
        "# Mayor o Menor\n",
        "\n",
        "Jugaremos a un clasico juego en el que el computador creara un numero aleatorio entre 1 y 20 (random.randint(1,20)), posterior a esto el usiario tendra 4 intentos para adivinar este numero, en caso de que seleccione el correcto el programa terminara y le dira ganaste, en caso de que agote sus intentos el programa dira perdiste, finalmente cada vez que el usuario ingrese un numero equivocado el programa tendra que indicar si el numero se encuentra más arriba o más abajo del seleccionado, esto quiere decir que la información de mayor menor se debe ir actualizando en cada iteración del programa.\n",
        "\n",
        "Ejemplo\n",
        "\n",
        "\n",
        "```\n",
        "randInt = 17\n",
        "\n",
        "Nr entre 1 y 20 = 7\n",
        "\n",
        "Tu numero es mayor y esta entre 8 y 20\n",
        "\n",
        "Nr entre 1 y 20 = 19\n",
        "\n",
        "Tu numero es mayor y esta entre 8 y 19\n",
        "\n",
        "Nr entre 1 y 20 = 17\n",
        "\n",
        "Ganaste\n",
        "\n",
        "```\n",
        "\n",
        "\n",
        "\n",
        "\n",
        "\n"
      ],
      "metadata": {
        "id": "gBOFLaDzb6-g"
      }
    },
    {
      "cell_type": "code",
      "source": [
        "import random\n",
        "\n",
        "randInt = random.randint(1,20)"
      ],
      "metadata": {
        "id": "Ke7JnPbEb6bS",
        "outputId": "631546fd-ea64-4a6e-8c18-a5897690cb35",
        "colab": {
          "base_uri": "https://localhost:8080/"
        }
      },
      "execution_count": 1,
      "outputs": [
        {
          "output_type": "stream",
          "name": "stdout",
          "text": [
            "6\n"
          ]
        }
      ]
    }
  ]
}